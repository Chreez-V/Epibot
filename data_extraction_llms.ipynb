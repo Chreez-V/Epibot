{
 "cells": [
  {
   "cell_type": "code",
   "execution_count": 14,
   "id": "45b9a334",
   "metadata": {},
   "outputs": [],
   "source": [
    "# Import Langchain module\n",
    "from langchain.document_loaders import PyPDFLoader\n",
    "from langchain.text_splitter import RecursiveCharacterTextSplitter\n",
    "from langchain.embeddings import OllamaEmbeddings\n",
    "from langchain.vectorstores import Chroma \n",
    "from langchain.chains import RetrievalQA\n",
    "from langchain.llms import Ollama\n",
    "from langchain_core.prompts import ChatPromptTemplate\n",
    "from langchain_core.pydantic_v1 import BaseModel, Field\n",
    "\n",
    "import os\n",
    "import tempfile\n",
    "import pandas as pd\n",
    "from dotenv import load_dotenv"
   ]
  },
  {
   "cell_type": "code",
   "execution_count": 16,
   "id": "71012637",
   "metadata": {},
   "outputs": [
    {
     "name": "stdout",
     "output_type": "stream",
     "text": [
      "A robot who had never laughed before was introduced to a joke that made him laugh out loud. The joke went like this:\n"
     ]
    }
   ],
   "source": [
    "\n",
    "llm = Ollama(\n",
    "    model=\"tinyllama\",\n",
    "    temperature=0.7,\n",
    "    num_ctx=512,       # Contexto más pequeño\n",
    "    num_thread=1,      # Usar solo 1 hilo\n",
    "    repeat_penalty=1.1,\n",
    "    top_k=40,\n",
    "    top_p=0.9\n",
    ")\n",
    "\n",
    "# Prueba con timeout\n",
    "try:\n",
    "    response = llm.invoke(\"Tell me a very short joke\", stop=[\"\\n\"])\n",
    "    print(response)\n",
    "except Exception as e:\n",
    "    print(f\"Error: {e}\")"
   ]
  }
 ],
 "metadata": {
  "kernelspec": {
   "display_name": "myenv",
   "language": "python",
   "name": "python3"
  },
  "language_info": {
   "codemirror_mode": {
    "name": "ipython",
    "version": 3
   },
   "file_extension": ".py",
   "mimetype": "text/x-python",
   "name": "python",
   "nbconvert_exporter": "python",
   "pygments_lexer": "ipython3",
   "version": "3.10.12"
  }
 },
 "nbformat": 4,
 "nbformat_minor": 5
}
